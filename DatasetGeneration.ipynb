{
  "nbformat": 4,
  "nbformat_minor": 0,
  "metadata": {
    "colab": {
      "provenance": [],
      "authorship_tag": "ABX9TyPWjs3I5mcMbJYMYfyEjR0l",
      "include_colab_link": true
    },
    "kernelspec": {
      "name": "python3",
      "display_name": "Python 3"
    },
    "language_info": {
      "name": "python"
    }
  },
  "cells": [
    {
      "cell_type": "markdown",
      "metadata": {
        "id": "view-in-github",
        "colab_type": "text"
      },
      "source": [
        "<a href=\"https://colab.research.google.com/github/frtrigg5/A-new-signature-model/blob/Code/DatasetGeneration.ipynb\" target=\"_parent\"><img src=\"https://colab.research.google.com/assets/colab-badge.svg\" alt=\"Open In Colab\"/></a>"
      ]
    },
    {
      "cell_type": "markdown",
      "source": [
        "# **TIME SERIES OBTAINED BY STOCHASTIC PROCESSES**"
      ],
      "metadata": {
        "id": "15aA4ymufvzv"
      }
    },
    {
      "cell_type": "code",
      "execution_count": null,
      "metadata": {
        "id": "4eqWM5d3fq9P"
      },
      "outputs": [],
      "source": [
        "def MB_sample(begin,end,number): # samples brownian motion trajectories in the interval [begin,end]\n",
        "  timesteps=np.linspace(begin,end,number)\n",
        "  s=(end-begin)/(number-1)\n",
        "  sqrtS=math.sqrt(s)  \n",
        "  sample=np.zeros(shape=(number))\n",
        "  sample[0]=math.sqrt(begin)*np.random.randn(1)\n",
        "  for i in range(1,number):\n",
        "    sample[i]=sample[i-1]+sqrtS*np.random.randn(1)   \n",
        "  \n",
        "  return sample,timesteps"
      ]
    },
    {
      "cell_type": "code",
      "source": [
        "#Geometric Brownian motion sampling procedure\n",
        "# GBM: dX_t=mu X_t dt + sigma X_t dW_t\n",
        "def GMB_sample(begin,end,InitCond, mu,sigma,number): \n",
        "  timesteps=np.linspace(begin,end,number)\n",
        "  s=(end-begin)/(number-1)\n",
        "  sqrtS=math.sqrt(s)\n",
        "  const=mu-(sigma**2)/2\n",
        "  sample=np.zeros(shape=(number))\n",
        "  MB=np.zeros(shape=(number))\n",
        "  sample[0]=InitCond\n",
        "  MB[0]=math.sqrt(begin)*np.random.randn(1)\n",
        "  for i in range(1,number):\n",
        "    MB[i]=MB[i-1]+sqrtS*np.random.randn(1)\n",
        "    sample[i]=InitCond*math.exp(const*(timesteps[i])+sigma*(MB[i]))\n",
        "\n",
        "  return sample,timesteps"
      ],
      "metadata": {
        "id": "doSHsI1UgGdN"
      },
      "execution_count": null,
      "outputs": []
    },
    {
      "cell_type": "code",
      "source": [
        "#sampling procedure from dX_t= (sqrt(1+X_t^2)+X_t/2) dt + sqrt(1+X_t^2) dW_t\n",
        "def Sinh_sample(begin,end,InitCond,number):\n",
        "  timesteps=np.linspace(begin,end,number)\n",
        "  s=(end-begin)/(number-1)\n",
        "  sqrtS=math.sqrt(s)\n",
        "  sample=np.zeros(shape=(number))\n",
        "  MB=np.zeros(shape=(number))\n",
        "  sample[0]=InitCond\n",
        "  constant=math.log(math.sqrt(1+InitCond**2)+InitCond)\n",
        "  MB[0]=math.sqrt(begin)*np.random.randn(1)\n",
        "  for i in range(1,number):\n",
        "    MB[i]=MB[i-1]+sqrtS*np.random.randn(1)\n",
        "    sample[i]=math.sinh(constant+timesteps[i]+MB[i])\n",
        "\n",
        "  return sample,timesteps\n"
      ],
      "metadata": {
        "id": "_liBChaGgKp-"
      },
      "execution_count": null,
      "outputs": []
    },
    {
      "cell_type": "code",
      "source": [
        "#Ornstein-Uhlenbeck : dX_t=alpha(gamma-X_t)dt+beta dW_t  \n",
        "def OU_sample(begin,end,InitCond,alpha,gamma,beta,number):\n",
        "  timesteps=np.linspace(begin,end,number)\n",
        "  s=(end-begin)/(number-1)\n",
        "  sqrtS=math.sqrt(s)\n",
        "  sample=np.zeros(shape=(number))\n",
        "  MB=np.zeros(shape=(number))\n",
        "  sample[0]=InitCond\n",
        "  MB[0]=math.sqrt(begin)*np.random.randn(1)\n",
        "  StochIntApprox=0\n",
        "  for i in range(1,number):\n",
        "    TimeVar1=timesteps[i]\n",
        "    MB[i]=MB[i-1]+sqrtS*np.random.randn(1)\n",
        "    if i>1:\n",
        "       StochIntApprox=StochIntApprox+(math.exp(alpha*timesteps[i-1])-math.exp(alpha*timesteps[i-2]))*(MB[i]-MB[i-1])/(alpha*s) #This approximation comes from the theory of elementary processes\n",
        "    sample[i]=InitCond*math.exp(-alpha*TimeVar1)+gamma*(1-math.exp(-alpha*TimeVar1))+beta*math.exp(-alpha*TimeVar1)*StochIntApprox\n",
        "\n",
        "  return sample,timesteps"
      ],
      "metadata": {
        "id": "G1rf_n-AgR8j"
      },
      "execution_count": null,
      "outputs": []
    },
    {
      "cell_type": "markdown",
      "source": [
        "In order to sample from Fractional Brownian Motion we can use the package fbm"
      ],
      "metadata": {
        "id": "4cwP8sQMg8uh"
      }
    },
    {
      "cell_type": "markdown",
      "source": [
        "# **EXAMPLE OF DATASET: FBM PROBLEM**"
      ],
      "metadata": {
        "id": "D31ApRkjhEpJ"
      }
    },
    {
      "cell_type": "code",
      "source": [
        "import fbm"
      ],
      "metadata": {
        "id": "zWTtzGnthkee"
      },
      "execution_count": null,
      "outputs": []
    },
    {
      "cell_type": "code",
      "source": [
        "#construction of the dataset\n",
        "d=1 #dimension of the timeseries\n",
        "begin=0 #first timestep\n",
        "end=1 #last timestep\n",
        "number=100 #length of each timeseries\n",
        "trShape,vlShape,testShape=1000,400,600\n",
        "H=0.26 # Hurst exponent\n",
        "f=fbm.FBM(number-1,H)\n",
        "\n",
        "Known_times=np.linspace(begin,end,number) #istanti temporali noti\n",
        "div=1 #quanti nuovi istanti temporali prendere tra due istanti noti\n",
        "New_times=np.zeros(division*(number-1))\n",
        "for i in range(0,(number-1)):\n",
        "  New_times[(div*i):(div*(i+1))]=np.linspace(Known_times[i],Known_times[i+1],(div+2))[1:(1+div)]\n",
        "\n",
        "L1=Known_times.size\n",
        "L2=New_times.size\n",
        "\n",
        "timestamps=np.concatenate((Known_times,New_times),axis=0)\n",
        "#time series train\n",
        "dataset_value=np.zeros(shape=[1000,number])\n",
        "for i in range(0,500):\n",
        "  dataset_value[i]=MB_sample(begin,end,number)[0]\n",
        "  dataset_value[i+500]=f.fbm()\n",
        "\n",
        "#time series validation\n",
        "dataset_value2=np.zeros(shape=[400,number])\n",
        "for i in range(0,200):\n",
        "  dataset_value2[i]=MB_sample(begin,end,number)[0]\n",
        "  dataset_value2[i+200]=f.fbm()\n",
        "\n",
        "#time series test\n",
        "dataset_value3=np.zeros(shape=[600,number])\n",
        "for i in range(0,300):\n",
        "  dataset_value3[i]=MB_sample(begin,end,number)[0]\n",
        "  dataset_value3[i+300]=f.fbm()\n",
        " \n",
        "# adding Known and unknown time stamps\n",
        "time_data=np.zeros((trShape,L1+L2))\n",
        "for i in range(0,trShape):\n",
        "  time_data[i]=timestamps\n",
        "\n",
        "time_data2=np.zeros((vlShape,L1+L2))\n",
        "for i in range(0,vlShape):\n",
        "  time_data2[i]=timestamps\n",
        "\n",
        "time_data3=np.zeros((testShape,L1+L2))\n",
        "for i in range(0,testShape):\n",
        "  time_data3[i]=timestamps  \n",
        "\n",
        "#full dataset train\n",
        "dataset=np.concatenate((time_data,dataset_value),axis=-1) #full dataset\n",
        "dataset=dataset.astype('float32')\n",
        "\n",
        "#full dataset validation\n",
        "dataset2=np.concatenate((time_data2,dataset_value2),axis=-1) #full dataset\n",
        "dataset2=dataset2.astype('float32')\n",
        "\n",
        "#full dataset test\n",
        "dataset3=np.concatenate((time_data3,dataset_value3),axis=-1) #full dataset\n",
        "dataset3=dataset3.astype('float32')\n",
        "\n",
        "#label construction\n",
        "y=np.zeros((trShape,1),dtype='uint8') #label o for Brownian Motion, 1 for FBM\n",
        "y[500:]=np.ones((500,1),dtype='uint8') \n",
        "\n",
        "#label di validation\n",
        "y2=np.zeros((vlShape,1),dtype='uint8')\n",
        "y2[200:]=np.ones((200,1),dtype='uint8') \n",
        "\n",
        "#label di test\n",
        "y3=np.zeros((testShape,1),dtype='uint8') \n",
        "y3[300:]=np.ones((300,1),dtype='uint8') "
      ],
      "metadata": {
        "id": "ECyz-BMBhLsJ"
      },
      "execution_count": null,
      "outputs": []
    },
    {
      "cell_type": "code",
      "source": [
        "batch=60\n",
        "class MyDataset(torch.utils.data.Dataset):\n",
        "\n",
        "  def __init__(self,labels,dataset):\n",
        "    self.labels=labels\n",
        "    self.dataset=dataset\n",
        "\n",
        "  def __len__(self):\n",
        "    return len(self.labels)\n",
        "  \n",
        "  def __getitem__(self,index):\n",
        "    sample=self.dataset[index]\n",
        "    label=self.labels[index]\n",
        "    return sample, label\n",
        "  \n",
        "training_data=MyDataset(y,dataset)\n",
        "train_dataloader=torch.utils.data.DataLoader(training_data,batch_size=batch,shuffle=True)\n",
        "validation_data=MyDataset(y2,dataset2)\n",
        "validation_dataloader=torch.utils.data.DataLoader(validation_data,batch_size=vlshape,shuffle=False)"
      ],
      "metadata": {
        "id": "6mChJ98LhoB1"
      },
      "execution_count": null,
      "outputs": []
    }
  ]
}